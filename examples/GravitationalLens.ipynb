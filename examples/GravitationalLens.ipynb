{
 "cells": [
  {
   "cell_type": "markdown",
   "source": [
    "GravitationalLens.ipynb contains an example of how to toy-like image of gravitational lens events\n",
    "The event requires an obj_params which includes generator information about the lens. \n",
    "    "
   ],
   "metadata": {
    "collapsed": false,
    "pycharm": {
     "name": "#%% md\n",
     "is_executing": false
    }
   }
  },
  {
   "cell_type": "code",
   "execution_count": 5,
   "metadata": {
    "collapsed": true
   },
   "outputs": [],
   "source": [
    "import deepbench.module_data.generate_data as gdata\n",
    "import numpy as np"
   ]
  },
  {
   "cell_type": "markdown",
   "source": [
    "1. Create arc parameters for each lens event. "
   ],
   "metadata": {
    "collapsed": false,
    "pycharm": {
     "name": "#%% md\n",
     "is_executing": false
    }
   }
  },
  {
   "cell_type": "code",
   "execution_count": 6,
   "outputs": [],
   "source": [
    "n_obj = 10\n",
    "n_pix_side = 256\n",
    "myclass = 'lens' #lensing events\n",
    "obj_params = []\n",
    "\n",
    "for i in range(n_obj):\n",
    "    num_arcs = np.random.randint(1, 10)\n",
    "    arc_list = []\n",
    "    arc_rad = float(np.random.uniform(16., 64.))\n",
    "    for j in range(num_arcs):\n",
    "        width = float(np.random.uniform(0.5, 5.))\n",
    "        theta1 = float(np.random.uniform(0., 360.))\n",
    "        theta2 = float(np.random.uniform(0., 360.))\n",
    "        intensity = float(np.random.uniform(0., 255.))\n",
    "        arc = [arc_rad, width, theta1, theta2, intensity]\n",
    "        arc_list.append(arc)\n",
    "    obj_params.append(arc_list)\n",
    "    \n",
    "radius_min, radius_max = 4.0, 25.0\n",
    "amplitude_min, amplitude_max = 4.5, 8.5\n",
    "\n",
    "lens_rads = np.random.uniform(radius_min, radius_max, (n_obj, 1))\n",
    "lens_amps = np.random.uniform(amplitude_min, amplitude_max, (n_obj,1))"
   ],
   "metadata": {
    "collapsed": false,
    "pycharm": {
     "name": "#%%\n"
    }
   }
  },
  {
   "cell_type": "markdown",
   "source": [
    "2. Catalog events into a single dataframe and generate images. Save images and data to a directory. "
   ],
   "metadata": {
    "collapsed": false,
    "pycharm": {
     "name": "#%% md\n"
    }
   }
  },
  {
   "cell_type": "code",
   "execution_count": 7,
   "outputs": [],
   "source": [
    "catalog = gdata.Catalog(n_obj, n_pix_side, myclass, lens_rads, lens_amps, obj_params=obj_params)\n",
    "\n",
    "catalog.generate_imageset()\n",
    "catalog.to_csv(r'data','generated_data.csv')\n",
    "catalog.save_images(r'data\\GravitationalLens')\n"
   ],
   "metadata": {
    "collapsed": false,
    "pycharm": {
     "name": "#%%\n"
    }
   }
  }
 ],
 "metadata": {
  "kernelspec": {
   "display_name": "Python 3",
   "language": "python",
   "name": "python3"
  },
  "language_info": {
   "codemirror_mode": {
    "name": "ipython",
    "version": 2
   },
   "file_extension": ".py",
   "mimetype": "text/x-python",
   "name": "python",
   "nbconvert_exporter": "python",
   "pygments_lexer": "ipython2",
   "version": "2.7.6"
  }
 },
 "nbformat": 4,
 "nbformat_minor": 0
}