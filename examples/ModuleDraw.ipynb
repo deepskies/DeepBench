{
 "cells": [
  {
   "cell_type": "markdown",
   "metadata": {
    "collapsed": true,
    "pycharm": {
     "name": "#%% md\n"
    }
   },
   "source": [
    "Draw examples of objects and shapes from module_draw. These shapes underlie the objects\n",
    "in module_data\n"
   ]
  },
  {
   "cell_type": "code",
   "execution_count": 21,
   "outputs": [],
   "source": [
    "import numpy as np\n",
    "import matplotlib.pyplot as plt\n",
    "\n",
    "import deepbench.module_draw.generate_draw as gd\n"
   ],
   "metadata": {
    "collapsed": false,
    "pycharm": {
     "name": "#%%\n"
    }
   }
  },
  {
   "cell_type": "code",
   "execution_count": 22,
   "outputs": [],
   "source": [
    "imblah = np.zeros( (256, 256) )\n",
    "\n",
    "#Example arc\n",
    "intensity = np.random.uniform(0.5, 2.0)\n",
    "arc = gd.create_arc(imblah,center = (150, 150), radius=56,\n",
    "                 width=6, theta1=27, theta2=156)\n",
    "imblah += arc * intensity\n",
    "\n",
    "#Example filled circle\n",
    "intensity = np.random.uniform(0.5, 1.0)\n",
    "circle = gd.create_circle(imblah, center = (50.24414,28.2587), radius = 56.25, width = 56.12)\n",
    "imblah += circle * intensity\n",
    "\n",
    "#Example unfilled circle\n",
    "intensity = np.random.uniform(0.5, 1.5)\n",
    "circle = gd.create_circle(imblah, center=(28.52, 200.52), radius=50.0147854, width=8.99)\n",
    "imblah += circle * intensity\n",
    "\n",
    "#Example polygon\n",
    "intensity = np.random.uniform(0.5, 1.0)\n",
    "rect = gd.create_rectangle(imblah, (150, 28), width=27, height=44)\n",
    "imblah += rect * intensity\n",
    "\n",
    "#Example line\n",
    "intensity = np.random.uniform(0.5, 1.0)\n",
    "line = gd.create_line(imblah, (0,0), (512,512), linewidth=1.5)\n",
    "imblah += line * intensity\n"
   ],
   "metadata": {
    "collapsed": false,
    "pycharm": {
     "name": "#%%\n"
    }
   }
  },
  {
   "cell_type": "code",
   "execution_count": 23,
   "outputs": [
    {
     "data": {
      "text/plain": "<Figure size 432x288 with 1 Axes>",
      "image/png": "[encoded data removed]"
     },
     "metadata": {
      "needs_background": "light"
     },
     "output_type": "display_data"
    }
   ],
   "source": [
    "plt.figure(1)\n",
    "plt.contourf(imblah, cmap='viridis')\n",
    "plt.show()\n"
   ],
   "metadata": {
    "collapsed": false,
    "pycharm": {
     "name": "#%%\n"
    }
   }
  }
 ],
 "metadata": {
  "kernelspec": {
   "display_name": "Python 3",
   "language": "python",
   "name": "python3"
  },
  "language_info": {
   "codemirror_mode": {
    "name": "ipython",
    "version": 2
   },
   "file_extension": ".py",
   "mimetype": "text/x-python",
   "name": "python",
   "nbconvert_exporter": "python",
   "pygments_lexer": "ipython2",
   "version": "2.7.6"
  }
 },
 "nbformat": 4,
 "nbformat_minor": 0
}