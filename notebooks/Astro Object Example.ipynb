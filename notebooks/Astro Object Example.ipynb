{
 "cells": [
  {
   "cell_type": "markdown",
   "id": "671b3a50",
   "metadata": {},
   "source": [
    "# Astro Object\n",
    "The astro objects are:\n",
    "- astro_object\n",
    "- galaxy_object\n",
    "- n_body_object\n",
    "- spiral_galaxy\n",
    "- star_object\n",
    "\n",
    "This notebook runs through an example of how to initilize and use the star_object. This methodology applies to the other astro objects as well."
   ]
  },
  {
   "cell_type": "code",
   "execution_count": 1,
   "id": "785dc061",
   "metadata": {},
   "outputs": [],
   "source": [
    "import numpy as np\n",
    "import matplotlib.pyplot as plt\n",
    "\n",
    "from deepbench.astro_object import StarObject"
   ]
  },
  {
   "cell_type": "code",
   "execution_count": 2,
   "id": "b2597203",
   "metadata": {},
   "outputs": [
    {
     "ename": "SyntaxError",
     "evalue": "invalid syntax (4174743963.py, line 2)",
     "output_type": "error",
     "traceback": [
      "\u001b[0;36m  Cell \u001b[0;32mIn[2], line 2\u001b[0;36m\u001b[0m\n\u001b[0;31m    Inputs include the dimension of the image (a square), noise, radius, and amplitude.\u001b[0m\n\u001b[0m           ^\u001b[0m\n\u001b[0;31mSyntaxError\u001b[0m\u001b[0;31m:\u001b[0m invalid syntax\n"
     ]
    }
   ],
   "source": [
    "## The first step is to initilize the star class\n",
    "Inputs include the dimension of the image (a square), noise, radius, and amplitude."
   ]
  },
  {
   "cell_type": "code",
   "execution_count": null,
   "id": "8e949383",
   "metadata": {},
   "outputs": [],
   "source": [
    "star = StarObject(\n",
    "        image_dimensions = 28,\n",
    "        noise = 0.3,\n",
    "        radius= 0.8,\n",
    "        amplitude = 1.0\n",
    "    )"
   ]
  },
  {
   "cell_type": "code",
   "execution_count": null,
   "id": "f31d5aeb",
   "metadata": {},
   "outputs": [],
   "source": [
    "generated_stars = []\n",
    "x_position, y_position = np.random.default_rng().uniform(low=1, high=27, size=(2, 50))\n",
    "for x_pos, y_pos in zip(x_position, y_position):\n",
    "    generated_stars.append(star.create_object(x_pos, y_pos))\n",
    "    print(star.create_object(x_pos, y_pos))"
   ]
  },
  {
   "cell_type": "code",
   "execution_count": null,
   "id": "19ebba1d",
   "metadata": {},
   "outputs": [],
   "source": [
    "print(generated_stars)"
   ]
  },
  {
   "cell_type": "code",
   "execution_count": null,
   "id": "91b48b82",
   "metadata": {},
   "outputs": [],
   "source": [
    "plt.clf()\n",
    "plt.imshow(generate)"
   ]
  }
 ],
 "metadata": {
  "kernelspec": {
   "display_name": "Python 3 (ipykernel)",
   "language": "python",
   "name": "python3"
  },
  "language_info": {
   "codemirror_mode": {
    "name": "ipython",
    "version": 3
   },
   "file_extension": ".py",
   "mimetype": "text/x-python",
   "name": "python",
   "nbconvert_exporter": "python",
   "pygments_lexer": "ipython3",
   "version": "3.10.9"
  }
 },
 "nbformat": 4,
 "nbformat_minor": 5
}
